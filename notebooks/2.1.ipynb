{
 "cells": [
  {
   "cell_type": "code",
   "execution_count": 2,
   "id": "import-modify-image",
   "metadata": {},
   "outputs": [
    {
     "name": "stdout",
     "output_type": "stream",
     "text": [
      "code executed successfully.\n",
      "166858103\n"
     ]
    }
   ],
   "source": [
    "import time\n",
    "from PIL import Image\n",
    "import numpy as np\n",
    "\n",
    "def pixel_value(image_path, output_path):\n",
    "    current_time = int(time.time())\n",
    "    generated_number = (current_time % 100) + 50\n",
    "    if generated_number % 2 == 0:\n",
    "        generated_number += 10\n",
    "\n",
    "    image = Image.open(image_path)\n",
    "    pixels = np.array(image)\n",
    "\n",
    "    modified_pixels = pixels + generated_number\n",
    "    modified_pixels = np.clip(modified_pixels, 0, 255).astype(np.uint8)\n",
    "\n",
    "    modified_image = Image.fromarray(modified_pixels)\n",
    "    modified_image.save(output_path)\n",
    "\n",
    "    red_sum = np.sum(modified_pixels[:, :, 0])\n",
    "    \n",
    "    return red_sum\n",
    "\n",
    "image_path = 'images/chapter1.jpg'\n",
    "output_path = 'images/chapter1out.jpg'\n",
    "red_sum = pixel_value(image_path, output_path)\n",
    "\n",
    "print('code executed successfully.')\n",
    "print(red_sum)"
   ]
  }
 ],
 "metadata": {
  "kernelspec": {
   "display_name": "Python 3",
   "language": "python",
   "name": "python3"
  },
  "language_info": {
   "codemirror_mode": {
    "name": "ipython",
    "version": 3
   },
   "file_extension": ".py",
   "mimetype": "text/x-python",
   "name": "python",
   "nbconvert_exporter": "python",
   "pygments_lexer": "ipython3",
   "version": "3.10.0"
  }
 },
 "nbformat": 4,
 "nbformat_minor": 5
}
